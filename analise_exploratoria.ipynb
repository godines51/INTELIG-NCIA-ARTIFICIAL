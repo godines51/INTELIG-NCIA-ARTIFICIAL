# -*- coding: utf-8 -*-
"""
Membros do Grupo:
- Gabriel Henrique Vianna Braum – RA: 10401421 – gabrielhenriquevb@gmail.com

Síntese do Conteúdo:
Este notebook contém o código para a análise exploratória do dataset de imagens de ECG. 
Inclui a importação das bibliotecas necessárias, carregamento e pré-processamento das imagens, 
bem como a visualização e estatística descritiva básica do conjunto de dados.

Histórico das Alterações:
2025-04-08 – Gabriel Henrique Vianna Braum – Criação do cabeçalho e importação inicial e adição do código de carregamento e visualização das imagens.
"""

# Importação das bibliotecas necessárias
import os
import cv2
import matplotlib.pyplot as plt

# Definir o caminho para o dataset (ajustar conforme a organização do repositório)
dataset_path = "datasets/ecg-images/"

# Listar arquivos de imagem (assumindo formatos .png e .jpg)
image_files = [os.path.join(dataset_path, f) for f in os.listdir(dataset_path) if f.lower().endswith(('.png', '.jpg'))]

print(f"Total de imagens encontradas: {len(image_files)}")

# Exibir as 5 primeiras imagens do dataset para inspeção visual
for i, image_path in enumerate(image_files[:5]):
    image = cv2.imread(image_path)
    image_rgb = cv2.cvtColor(image, cv2.COLOR_BGR2RGB)
    plt.figure(figsize=(4, 4))
    plt.imshow(image_rgb)
    plt.title(f"Imagem: {os.path.basename(image_path)}")
    plt.axis('off')
    plt.show()
